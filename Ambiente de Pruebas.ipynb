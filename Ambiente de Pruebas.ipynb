{
 "cells": [
  {
   "cell_type": "code",
   "execution_count": 21,
   "id": "f3c78e28",
   "metadata": {},
   "outputs": [],
   "source": [
    "import random\n",
    "import time"
   ]
  },
  {
   "cell_type": "code",
   "execution_count": 22,
   "id": "75c6a5c4",
   "metadata": {},
   "outputs": [],
   "source": [
    "random.seed(0)"
   ]
  },
  {
   "cell_type": "code",
   "execution_count": null,
   "id": "554b2330",
   "metadata": {},
   "outputs": [],
   "source": [
    "#Perdidad aleatoria de 30%\n",
    "if(random.randint(1,100) < 30):\n",
    "\n",
    "#or\n",
    "if(random.random() < 0.3):\n",
    "    "
   ]
  },
  {
   "cell_type": "code",
   "execution_count": 25,
   "id": "d7e85d0d",
   "metadata": {},
   "outputs": [
    {
     "name": "stdout",
     "output_type": "stream",
     "text": [
      "Retardo producido de 0.665 milisegundos\n"
     ]
    }
   ],
   "source": [
    "#Retardo del medio entre 500 y 3000 mseg por mensaje (random)\n",
    "retardo = random.randint(500,3000)/1000\n",
    "time.sleep(retardo)\n",
    "print('Retardo producido de {tiempo} milisegundos'.format(tiempo = retardo))"
   ]
  },
  {
   "cell_type": "markdown",
   "id": "ee4c7a7a",
   "metadata": {},
   "source": [
    "# Cliente"
   ]
  },
  {
   "cell_type": "code",
   "execution_count": 26,
   "id": "d162ec3f",
   "metadata": {},
   "outputs": [
    {
     "name": "stdout",
     "output_type": "stream",
     "text": [
      "B\n",
      "l\n",
      "a\n",
      "d\n",
      "i\n",
      "m\n",
      "i\n",
      "r\n"
     ]
    }
   ],
   "source": [
    "msg = 'Bladimir'\n",
    "for i in msg:\n",
    "    print(i)"
   ]
  }
 ],
 "metadata": {
  "kernelspec": {
   "display_name": "Python 3.10.5 64-bit",
   "language": "python",
   "name": "python3"
  },
  "language_info": {
   "codemirror_mode": {
    "name": "ipython",
    "version": 3
   },
   "file_extension": ".py",
   "mimetype": "text/x-python",
   "name": "python",
   "nbconvert_exporter": "python",
   "pygments_lexer": "ipython3",
   "version": "3.10.5"
  },
  "vscode": {
   "interpreter": {
    "hash": "81c64050e91b7b04f06e9ff880db215043e2f4b833f4f55ce8a1d923cee21a4d"
   }
  }
 },
 "nbformat": 4,
 "nbformat_minor": 5
}
